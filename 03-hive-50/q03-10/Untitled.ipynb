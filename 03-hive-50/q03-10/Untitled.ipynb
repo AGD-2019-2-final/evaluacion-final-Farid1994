{
 "cells": [
  {
   "cell_type": "code",
   "execution_count": 20,
   "metadata": {},
   "outputs": [],
   "source": [
    "import doctest\n",
    "import subprocess\n",
    "import os\n",
    "result = os.popen('hive -S -e \"source question.hql\"').read()\n"
   ]
  },
  {
   "cell_type": "code",
   "execution_count": 21,
   "metadata": {},
   "outputs": [
    {
     "name": "stdout",
     "output_type": "stream",
     "text": [
      "\n"
     ]
    }
   ],
   "source": [
    "print(result)"
   ]
  },
  {
   "cell_type": "code",
   "execution_count": 4,
   "metadata": {},
   "outputs": [
    {
     "name": "stdout",
     "output_type": "stream",
     "text": [
      "The bigdata extension is already loaded. To reload it, use:\n",
      "  %reload_ext bigdata\n"
     ]
    }
   ],
   "source": [
    "%load_ext bigdata\n",
    "%hive_start\n",
    "%timeout 300"
   ]
  },
  {
   "cell_type": "code",
   "execution_count": 17,
   "metadata": {},
   "outputs": [
    {
     "name": "stdout",
     "output_type": "stream",
     "text": [
      "DROP TABLE IF EXISTS inputs;\n",
      "OK\n",
      "Time taken: 0.178 seconds\n",
      "CREATE TABLE inputs (letterq STRING,\n",
      "                   dates DATE,\n",
      "                   number INT)\n",
      "ROW FORMAT DELIMITED\n",
      "FIELDS TERMINATED BY '\\t';\n",
      "OK\n",
      "Time taken: 0.037 seconds\n",
      "LOAD DATA LOCAL INPATH \"data.tsv\" OVERWRITE INTO TABLE inputs;\n",
      "Loading data to table default.inputs\n",
      "OK\n",
      "Time taken: 0.977 seconds\n",
      "INSERT OVERWRITE LOCAL DIRECTORY 'output'\n",
      "ROW FORMAT DELIMITED FIELDS TERMINATED BY ','\n",
      "STORED AS TEXTFILE\n",
      "SELECT DISTINCT number FROM inputs\n",
      "ORDER BY number\n",
      "LIMIT 5;\n",
      "WARNING: Hive-on-MR is deprecated in Hive 2 and may not be available in the future versions. Consider using a different execution engine (i.e. spark, tez) or using Hive 1.X releases.\n",
      "Query ID = root_20200306040500_650847f0-c2b0-4f7e-aab6-df4398d0e31a\n",
      "Total jobs = 2\n",
      "Launching Job 1 out of 2\n",
      "Number of reduce tasks not specified. Estimated from input data size: 1\n",
      "In order to change the average load for a reducer (in bytes):\n",
      "  set hive.exec.reducers.bytes.per.reducer=<number>\n",
      "In order to limit the maximum number of reducers:\n",
      "  set hive.exec.reducers.max=<number>\n",
      "In order to set a constant number of reducers:\n",
      "  set mapreduce.job.reduces=<number>\n",
      "Starting Job = job_1583461148332_0007, Tracking URL = http://14365187aaaa:8088/proxy/application_1583461148332_0007/\n",
      "Kill Command = /usr/local/hadoop/bin/hadoop job  -kill job_1583461148332_0007\n",
      "Hadoop job information for Stage-1: number of mappers: 1; number of reducers: 1\n",
      "2020-03-06 04:05:09,529 Stage-1 map = 0%,  reduce = 0%\n",
      "2020-03-06 04:05:14,873 Stage-1 map = 100%,  reduce = 0%, Cumulative CPU 1.3 sec\n",
      "2020-03-06 04:05:20,321 Stage-1 map = 100%,  reduce = 100%, Cumulative CPU 2.56 sec\n",
      "MapReduce Total cumulative CPU time: 2 seconds 560 msec\n",
      "Ended Job = job_1583461148332_0007\n",
      "Launching Job 2 out of 2\n",
      "Number of reduce tasks determined at compile time: 1\n",
      "In order to change the average load for a reducer (in bytes):\n",
      "  set hive.exec.reducers.bytes.per.reducer=<number>\n",
      "In order to limit the maximum number of reducers:\n",
      "  set hive.exec.reducers.max=<number>\n",
      "In order to set a constant number of reducers:\n",
      "  set mapreduce.job.reduces=<number>\n",
      "Starting Job = job_1583461148332_0008, Tracking URL = http://14365187aaaa:8088/proxy/application_1583461148332_0008/\n",
      "Kill Command = /usr/local/hadoop/bin/hadoop job  -kill job_1583461148332_0008\n",
      "Hadoop job information for Stage-2: number of mappers: 1; number of reducers: 1\n",
      "2020-03-06 04:05:31,913 Stage-2 map = 0%,  reduce = 0%\n",
      "2020-03-06 04:05:37,279 Stage-2 map = 100%,  reduce = 0%, Cumulative CPU 1.09 sec\n",
      "2020-03-06 04:05:43,771 Stage-2 map = 100%,  reduce = 100%, Cumulative CPU 2.54 sec\n",
      "MapReduce Total cumulative CPU time: 2 seconds 540 msec\n",
      "Ended Job = job_1583461148332_0008\n",
      "Moving data to local directory output\n",
      "MapReduce Jobs Launched: \n",
      "Stage-Stage-1: Map: 1  Reduce: 1   Cumulative CPU: 2.56 sec   HDFS Read: 7553 HDFS Write: 186 SUCCESS\n",
      "Stage-Stage-2: Map: 1  Reduce: 1   Cumulative CPU: 2.54 sec   HDFS Read: 4760 HDFS Write: 12 SUCCESS\n",
      "Total MapReduce CPU Time Spent: 5 seconds 100 msec\n",
      "OK\n",
      "Time taken: 45.068 seconds\n"
     ]
    }
   ],
   "source": [
    "%%hive\n",
    "DROP TABLE IF EXISTS inputs;\n",
    "CREATE TABLE inputs (letterq STRING,\n",
    "                   dates DATE,\n",
    "                   number INT)\n",
    "ROW FORMAT DELIMITED\n",
    "FIELDS TERMINATED BY '\\t';\n",
    "LOAD DATA LOCAL INPATH \"data.tsv\" OVERWRITE INTO TABLE inputs;\n",
    "INSERT OVERWRITE LOCAL DIRECTORY 'output'\n",
    "ROW FORMAT DELIMITED FIELDS TERMINATED BY ','\n",
    "STORED AS TEXTFILE\n",
    "\n",
    "SELECT DISTINCT number FROM inputs\n",
    "ORDER BY number\n",
    "LIMIT 5;"
   ]
  },
  {
   "cell_type": "code",
   "execution_count": null,
   "metadata": {},
   "outputs": [
    {
     "name": "stdout",
     "output_type": "stream",
     "text": [
      "SLF4J: Class path contains multiple SLF4J bindings.\n",
      "SLF4J: Found binding in [jar:file:/usr/local/hive/lib/log4j-slf4j-impl-2.6.2.jar!/org/slf4j/impl/StaticLoggerBinder.class]\n",
      "SLF4J: Found binding in [jar:file:/usr/local/hadoop/share/hadoop/common/lib/slf4j-log4j12-1.7.10.jar!/org/slf4j/impl/StaticLoggerBinder.class]\n",
      "SLF4J: See http://www.slf4j.org/codes.html#multiple_bindings for an explanation.\n",
      "SLF4J: Actual binding is of type [org.apache.logging.slf4j.Log4jLoggerFactory]\n"
     ]
    }
   ],
   "source": [
    "!python3 grader.py"
   ]
  },
  {
   "cell_type": "code",
   "execution_count": null,
   "metadata": {},
   "outputs": [],
   "source": []
  }
 ],
 "metadata": {
  "kernelspec": {
   "display_name": "Python 3",
   "language": "python",
   "name": "python3"
  },
  "language_info": {
   "codemirror_mode": {
    "name": "ipython",
    "version": 3
   },
   "file_extension": ".py",
   "mimetype": "text/x-python",
   "name": "python",
   "nbconvert_exporter": "python",
   "pygments_lexer": "ipython3",
   "version": "3.6.8"
  }
 },
 "nbformat": 4,
 "nbformat_minor": 4
}
