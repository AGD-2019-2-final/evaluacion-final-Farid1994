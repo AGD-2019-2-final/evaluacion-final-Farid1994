{
 "cells": [
  {
   "cell_type": "code",
   "execution_count": 1,
   "metadata": {},
   "outputs": [],
   "source": [
    "%load_ext bigdata\n",
    "%hive_start\n",
    "%timeout 300"
   ]
  },
  {
   "cell_type": "code",
   "execution_count": 14,
   "metadata": {},
   "outputs": [
    {
     "name": "stdout",
     "output_type": "stream",
     "text": [
      "DROP TABLE IF EXISTS inputs;\n",
      "OK\n",
      "Time taken: 0.51 seconds\n",
      "DROP TABLE IF EXISTS results;\n",
      "OK\n",
      "Time taken: 0.021 seconds\n",
      "CREATE TABLE inputs (letterq STRING,\n",
      "                   dates STRING,\n",
      "                   number INT)\n",
      "ROW FORMAT DELIMITED\n",
      "FIELDS TERMINATED BY '\\t';\n",
      "OK\n",
      "Time taken: 0.298 seconds\n",
      "LOAD DATA LOCAL INPATH \"data.tsv\" OVERWRITE INTO TABLE inputs;\n",
      "Loading data to table default.inputs\n",
      "OK\n",
      "Time taken: 1.467 seconds\n",
      "CREATE TABLE results AS\n",
      "SELECT letterq, count(1) FROM inputs\n",
      "GROUP BY letterq\n",
      "ORDER BY letterq;\n",
      "WARNING: Hive-on-MR is deprecated in Hive 2 and may not be available in the future versions. Consider using a different execution engine (i.e. spark, tez) or using Hive 1.X releases.\n",
      "Query ID = root_20200219230501_27c4731a-317c-4ac3-9c69-e829d851e1e9\n",
      "Total jobs = 2\n",
      "Launching Job 1 out of 2\n",
      "Number of reduce tasks not specified. Estimated from input data size: 1\n",
      "In order to change the average load for a reducer (in bytes):\n",
      "  set hive.exec.reducers.bytes.per.reducer=<number>\n",
      "In order to limit the maximum number of reducers:\n",
      "  set hive.exec.reducers.max=<number>\n",
      "In order to set a constant number of reducers:\n",
      "  set mapreduce.job.reduces=<number>\n",
      "Starting Job = job_1582150298548_0003, Tracking URL = http://0fbaa519fc96:8088/proxy/application_1582150298548_0003/\n",
      "Kill Command = /usr/local/hadoop/bin/hadoop job  -kill job_1582150298548_0003\n",
      "Hadoop job information for Stage-1: number of mappers: 1; number of reducers: 1\n",
      "2020-02-19 23:05:12,397 Stage-1 map = 0%,  reduce = 0%\n",
      "2020-02-19 23:05:17,929 Stage-1 map = 100%,  reduce = 0%, Cumulative CPU 1.8 sec\n",
      "2020-02-19 23:05:24,646 Stage-1 map = 100%,  reduce = 100%, Cumulative CPU 3.43 sec\n",
      "MapReduce Total cumulative CPU time: 3 seconds 430 msec\n",
      "Ended Job = job_1582150298548_0003\n",
      "Launching Job 2 out of 2\n",
      "Number of reduce tasks determined at compile time: 1\n",
      "In order to change the average load for a reducer (in bytes):\n",
      "  set hive.exec.reducers.bytes.per.reducer=<number>\n",
      "In order to limit the maximum number of reducers:\n",
      "  set hive.exec.reducers.max=<number>\n",
      "In order to set a constant number of reducers:\n",
      "  set mapreduce.job.reduces=<number>\n",
      "Starting Job = job_1582150298548_0004, Tracking URL = http://0fbaa519fc96:8088/proxy/application_1582150298548_0004/\n",
      "Kill Command = /usr/local/hadoop/bin/hadoop job  -kill job_1582150298548_0004\n",
      "Hadoop job information for Stage-2: number of mappers: 1; number of reducers: 1\n",
      "2020-02-19 23:05:37,874 Stage-2 map = 0%,  reduce = 0%\n",
      "2020-02-19 23:05:43,518 Stage-2 map = 100%,  reduce = 0%, Cumulative CPU 1.33 sec\n",
      "2020-02-19 23:05:49,055 Stage-2 map = 100%,  reduce = 100%, Cumulative CPU 3.18 sec\n",
      "MapReduce Total cumulative CPU time: 3 seconds 180 msec\n",
      "Ended Job = job_1582150298548_0004\n",
      "Moving data to directory hdfs://0.0.0.0:9000/user/hive/warehouse/results\n",
      "MapReduce Jobs Launched: \n",
      "Stage-Stage-1: Map: 1  Reduce: 1   Cumulative CPU: 3.43 sec   HDFS Read: 7904 HDFS Write: 196 SUCCESS\n",
      "Stage-Stage-2: Map: 1  Reduce: 1   Cumulative CPU: 3.18 sec   HDFS Read: 5347 HDFS Write: 94 SUCCESS\n",
      "Total MapReduce CPU Time Spent: 6 seconds 610 msec\n",
      "OK\n",
      "Time taken: 49.558 seconds\n"
     ]
    }
   ],
   "source": [
    "%%hive\n",
    "\n",
    "DROP TABLE IF EXISTS inputs;\n",
    "DROP TABLE IF EXISTS results;\n",
    "CREATE TABLE inputs (letterq STRING,\n",
    "                   dates STRING,\n",
    "                   number INT)\n",
    "ROW FORMAT DELIMITED\n",
    "FIELDS TERMINATED BY '\\t';\n",
    "LOAD DATA LOCAL INPATH \"data.tsv\" OVERWRITE INTO TABLE inputs;\n",
    "CREATE TABLE results AS\n",
    "SELECT letterq, count(1) FROM inputs\n",
    "GROUP BY letterq\n",
    "ORDER BY letterq;\n",
    "INSERT OVERWRITE LOCAL DIRECTORY 'output'\n",
    "ROW FORMAT DELIMITED FIELDS TERMINATED BY ','\n",
    "STORED AS TEXTFILE\n",
    "SELECT * FROM results;"
   ]
  },
  {
   "cell_type": "code",
   "execution_count": 20,
   "metadata": {},
   "outputs": [
    {
     "name": "stdout",
     "output_type": "stream",
     "text": [
      "SLF4J: Class path contains multiple SLF4J bindings.\n",
      "SLF4J: Found binding in [jar:file:/usr/local/hive/lib/log4j-slf4j-impl-2.6.2.jar!/org/slf4j/impl/StaticLoggerBinder.class]\n",
      "SLF4J: Found binding in [jar:file:/usr/local/hadoop/share/hadoop/common/lib/slf4j-log4j12-1.7.10.jar!/org/slf4j/impl/StaticLoggerBinder.class]\n",
      "SLF4J: See http://www.slf4j.org/codes.html#multiple_bindings for an explanation.\n",
      "SLF4J: Actual binding is of type [org.apache.logging.slf4j.Log4jLoggerFactory]\n",
      "FAILED: SemanticException org.apache.hadoop.hive.ql.metadata.HiveException: java.lang.RuntimeException: Unable to instantiate org.apache.hadoop.hive.ql.metadata.SessionHiveMetaStoreClient\n"
     ]
    }
   ],
   "source": [
    "!python3 grader.py"
   ]
  },
  {
   "cell_type": "code",
   "execution_count": null,
   "metadata": {},
   "outputs": [],
   "source": []
  }
 ],
 "metadata": {
  "kernelspec": {
   "display_name": "Python 3",
   "language": "python",
   "name": "python3"
  },
  "language_info": {
   "codemirror_mode": {
    "name": "ipython",
    "version": 3
   },
   "file_extension": ".py",
   "mimetype": "text/x-python",
   "name": "python",
   "nbconvert_exporter": "python",
   "pygments_lexer": "ipython3",
   "version": "3.6.8"
  }
 },
 "nbformat": 4,
 "nbformat_minor": 4
}
