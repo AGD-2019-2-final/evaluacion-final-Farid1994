{
 "cells": [
  {
   "cell_type": "code",
   "execution_count": 5,
   "metadata": {},
   "outputs": [
    {
     "name": "stdout",
     "output_type": "stream",
     "text": [
      "The bigdata extension is already loaded. To reload it, use:\n",
      "  %reload_ext bigdata\n"
     ]
    }
   ],
   "source": [
    "%load_ext bigdata\n",
    "%pig_start\n",
    "%timeout 300"
   ]
  },
  {
   "cell_type": "code",
   "execution_count": 6,
   "metadata": {},
   "outputs": [
    {
     "name": "stdout",
     "output_type": "stream",
     "text": [
      "2020-02-19 04:26:15,455 [main] INFO  org.apache.hadoop.conf.Configuration.deprecation - mapred.job.tracker is deprecated. Instead, use mapreduce.jobtracker.address\n",
      "2020-02-19 04:26:15,809 [main] INFO  org.apache.hadoop.conf.Configuration.deprecation - io.bytes.per.checksum is deprecated. Instead, use dfs.bytes-per-checksum\n",
      "2020-02-19 04:26:16,428 [main] INFO  org.apache.hadoop.conf.Configuration.deprecation - mapred.textoutputformat.separator is deprecated. Instead, use mapreduce.output.textoutputformat.separator\n",
      "2020-02-19 04:26:16,684 [main] INFO  org.apache.hadoop.conf.Configuration.deprecation - session.id is deprecated. Instead, use dfs.metrics.session-id\n",
      "2020-02-19 04:26:16,685 [main] INFO  org.apache.hadoop.metrics.jvm.JvmMetrics - Initializing JVM Metrics with processName=JobTracker, sessionId=\n",
      "2020-02-19 04:26:16,711 [main] INFO  org.apache.hadoop.conf.Configuration.deprecation - mapred.job.reduce.markreset.buffer.percent is deprecated. Instead, use mapreduce.reduce.markreset.buffer.percent\n",
      "2020-02-19 04:26:16,714 [main] INFO  org.apache.hadoop.conf.Configuration.deprecation - mapred.output.compress is deprecated. Instead, use mapreduce.output.fileoutputformat.compress\n",
      "2020-02-19 04:26:16,724 [main] INFO  org.apache.hadoop.conf.Configuration.deprecation - mapred.submit.replication is deprecated. Instead, use mapreduce.client.submit.file.replication\n",
      "2020-02-19 04:26:16,879 [main] INFO  org.apache.hadoop.conf.Configuration.deprecation - mapred.job.tracker.http.address is deprecated. Instead, use mapreduce.jobtracker.http.address\n",
      "2020-02-19 04:26:16,891 [JobControl] INFO  org.apache.hadoop.metrics.jvm.JvmMetrics - Cannot initialize JVM Metrics with processName=JobTracker, sessionId= - already initialized\n",
      "2020-02-19 04:26:16,911 [JobControl] INFO  org.apache.hadoop.conf.Configuration.deprecation - mapred.task.id is deprecated. Instead, use mapreduce.task.attempt.id\n",
      "2020-02-19 04:26:16,958 [JobControl] WARN  org.apache.hadoop.mapreduce.JobResourceUploader - No job jar file set.  User classes may not be found. See Job or Job#setJar(String).\n",
      "2020-02-19 04:26:17,010 [JobControl] INFO  org.apache.hadoop.mapreduce.lib.input.FileInputFormat - Total input files to process : 1\n",
      "2020-02-19 04:26:17,039 [JobControl] INFO  org.apache.hadoop.mapreduce.JobSubmitter - number of splits:1\n",
      "2020-02-19 04:26:17,148 [JobControl] INFO  org.apache.hadoop.mapreduce.JobSubmitter - Submitting tokens for job: job_local1588421442_0001\n",
      "2020-02-19 04:26:17,357 [JobControl] INFO  org.apache.hadoop.mapred.LocalDistributedCacheManager - Creating symlink: /tmp/hadoop-root/mapred/local/1582086377230/pig-0.17.0-core-h2.jar <- /datalake/AGD Lab/evaluacion-final-Farid1994/02-pig-50/q29-10/pig-0.17.0-core-h2.jar\n",
      "2020-02-19 04:26:17,361 [JobControl] WARN  org.apache.hadoop.fs.FileUtil - Command 'ln -s /tmp/hadoop-root/mapred/local/1582086377230/pig-0.17.0-core-h2.jar /datalake/AGD Lab/evaluacion-final-Farid1994/02-pig-50/q29-10/pig-0.17.0-core-h2.jar' failed 1 with: ln: failed to create symbolic link '/datalake/AGD Lab/evaluacion-final-Farid1994/02-pig-50/q29-10/pig-0.17.0-core-h2.jar': Protocol error\n",
      "\n",
      "2020-02-19 04:26:17,361 [JobControl] WARN  org.apache.hadoop.mapred.LocalDistributedCacheManager - Failed to create symlink: /tmp/hadoop-root/mapred/local/1582086377230/pig-0.17.0-core-h2.jar <- /datalake/AGD Lab/evaluacion-final-Farid1994/02-pig-50/q29-10/pig-0.17.0-core-h2.jar\n",
      "2020-02-19 04:26:17,361 [JobControl] INFO  org.apache.hadoop.mapred.LocalDistributedCacheManager - Localized file:/tmp/temp-1238465892/tmp-541018813/pig-0.17.0-core-h2.jar as file:/tmp/hadoop-root/mapred/local/1582086377230/pig-0.17.0-core-h2.jar\n",
      "2020-02-19 04:26:17,368 [JobControl] INFO  org.apache.hadoop.mapred.LocalDistributedCacheManager - Creating symlink: /tmp/hadoop-root/mapred/local/1582086377231/automaton-1.11-8.jar <- /datalake/AGD Lab/evaluacion-final-Farid1994/02-pig-50/q29-10/automaton-1.11-8.jar\n",
      "2020-02-19 04:26:17,372 [JobControl] WARN  org.apache.hadoop.fs.FileUtil - Command 'ln -s /tmp/hadoop-root/mapred/local/1582086377231/automaton-1.11-8.jar /datalake/AGD Lab/evaluacion-final-Farid1994/02-pig-50/q29-10/automaton-1.11-8.jar' failed 1 with: ln: failed to create symbolic link '/datalake/AGD Lab/evaluacion-final-Farid1994/02-pig-50/q29-10/automaton-1.11-8.jar': Protocol error\n",
      "\n",
      "2020-02-19 04:26:17,373 [JobControl] WARN  org.apache.hadoop.mapred.LocalDistributedCacheManager - Failed to create symlink: /tmp/hadoop-root/mapred/local/1582086377231/automaton-1.11-8.jar <- /datalake/AGD Lab/evaluacion-final-Farid1994/02-pig-50/q29-10/automaton-1.11-8.jar\n",
      "2020-02-19 04:26:17,373 [JobControl] INFO  org.apache.hadoop.mapred.LocalDistributedCacheManager - Localized file:/tmp/temp-1238465892/tmp-1502512343/automaton-1.11-8.jar as file:/tmp/hadoop-root/mapred/local/1582086377231/automaton-1.11-8.jar\n",
      "2020-02-19 04:26:17,374 [JobControl] INFO  org.apache.hadoop.mapred.LocalDistributedCacheManager - Creating symlink: /tmp/hadoop-root/mapred/local/1582086377232/antlr-runtime-3.4.jar <- /datalake/AGD Lab/evaluacion-final-Farid1994/02-pig-50/q29-10/antlr-runtime-3.4.jar\n",
      "2020-02-19 04:26:17,376 [JobControl] WARN  org.apache.hadoop.fs.FileUtil - Command 'ln -s /tmp/hadoop-root/mapred/local/1582086377232/antlr-runtime-3.4.jar /datalake/AGD Lab/evaluacion-final-Farid1994/02-pig-50/q29-10/antlr-runtime-3.4.jar' failed 1 with: ln: failed to create symbolic link '/datalake/AGD Lab/evaluacion-final-Farid1994/02-pig-50/q29-10/antlr-runtime-3.4.jar': Protocol error\n",
      "\n",
      "2020-02-19 04:26:17,377 [JobControl] WARN  org.apache.hadoop.mapred.LocalDistributedCacheManager - Failed to create symlink: /tmp/hadoop-root/mapred/local/1582086377232/antlr-runtime-3.4.jar <- /datalake/AGD Lab/evaluacion-final-Farid1994/02-pig-50/q29-10/antlr-runtime-3.4.jar\n",
      "2020-02-19 04:26:17,377 [JobControl] INFO  org.apache.hadoop.mapred.LocalDistributedCacheManager - Localized file:/tmp/temp-1238465892/tmp-402036103/antlr-runtime-3.4.jar as file:/tmp/hadoop-root/mapred/local/1582086377232/antlr-runtime-3.4.jar\n",
      "2020-02-19 04:26:17,377 [JobControl] INFO  org.apache.hadoop.mapred.LocalDistributedCacheManager - Creating symlink: /tmp/hadoop-root/mapred/local/1582086377233/joda-time-2.9.3.jar <- /datalake/AGD Lab/evaluacion-final-Farid1994/02-pig-50/q29-10/joda-time-2.9.3.jar\n",
      "2020-02-19 04:26:17,383 [JobControl] WARN  org.apache.hadoop.fs.FileUtil - Command 'ln -s /tmp/hadoop-root/mapred/local/1582086377233/joda-time-2.9.3.jar /datalake/AGD Lab/evaluacion-final-Farid1994/02-pig-50/q29-10/joda-time-2.9.3.jar' failed 1 with: ln: failed to create symbolic link '/datalake/AGD Lab/evaluacion-final-Farid1994/02-pig-50/q29-10/joda-time-2.9.3.jar': Protocol error\n",
      "\n",
      "2020-02-19 04:26:17,383 [JobControl] WARN  org.apache.hadoop.mapred.LocalDistributedCacheManager - Failed to create symlink: /tmp/hadoop-root/mapred/local/1582086377233/joda-time-2.9.3.jar <- /datalake/AGD Lab/evaluacion-final-Farid1994/02-pig-50/q29-10/joda-time-2.9.3.jar\n",
      "2020-02-19 04:26:17,383 [JobControl] INFO  org.apache.hadoop.mapred.LocalDistributedCacheManager - Localized file:/tmp/temp-1238465892/tmp-2048839360/joda-time-2.9.3.jar as file:/tmp/hadoop-root/mapred/local/1582086377233/joda-time-2.9.3.jar\n",
      "2020-02-19 04:26:17,439 [JobControl] INFO  org.apache.hadoop.mapred.LocalDistributedCacheManager - file:/tmp/hadoop-root/mapred/local/1582086377230/pig-0.17.0-core-h2.jar\n",
      "2020-02-19 04:26:17,439 [JobControl] INFO  org.apache.hadoop.mapred.LocalDistributedCacheManager - file:/tmp/hadoop-root/mapred/local/1582086377231/automaton-1.11-8.jar\n",
      "2020-02-19 04:26:17,439 [JobControl] INFO  org.apache.hadoop.mapred.LocalDistributedCacheManager - file:/tmp/hadoop-root/mapred/local/1582086377232/antlr-runtime-3.4.jar\n",
      "2020-02-19 04:26:17,439 [JobControl] INFO  org.apache.hadoop.mapred.LocalDistributedCacheManager - file:/tmp/hadoop-root/mapred/local/1582086377233/joda-time-2.9.3.jar\n",
      "2020-02-19 04:26:17,444 [JobControl] INFO  org.apache.hadoop.mapreduce.Job - The url to track the job: http://localhost:8080/\n",
      "2020-02-19 04:26:17,446 [Thread-14] INFO  org.apache.hadoop.mapred.LocalJobRunner - OutputCommitter set in config null\n",
      "2020-02-19 04:26:17,502 [Thread-14] INFO  org.apache.hadoop.conf.Configuration.deprecation - mapred.textoutputformat.separator is deprecated. Instead, use mapreduce.output.textoutputformat.separator\n",
      "2020-02-19 04:26:17,503 [Thread-14] INFO  org.apache.hadoop.conf.Configuration.deprecation - mapred.job.reduce.markreset.buffer.percent is deprecated. Instead, use mapreduce.reduce.markreset.buffer.percent\n",
      "2020-02-19 04:26:17,504 [Thread-14] INFO  org.apache.hadoop.mapreduce.lib.output.FileOutputCommitter - File Output Committer Algorithm version is 1\n",
      "2020-02-19 04:26:17,504 [Thread-14] INFO  org.apache.hadoop.mapreduce.lib.output.FileOutputCommitter - FileOutputCommitter skip cleanup _temporary folders under output directory:false, ignore cleanup failures: false\n",
      "2020-02-19 04:26:17,505 [Thread-14] INFO  org.apache.hadoop.mapred.LocalJobRunner - OutputCommitter is org.apache.pig.backend.hadoop.executionengine.mapReduceLayer.PigOutputCommitter\n",
      "2020-02-19 04:26:17,558 [Thread-14] INFO  org.apache.hadoop.mapred.LocalJobRunner - Waiting for map tasks\n",
      "2020-02-19 04:26:17,559 [LocalJobRunner Map Task Executor #0] INFO  org.apache.hadoop.mapred.LocalJobRunner - Starting task: attempt_local1588421442_0001_m_000000_0\n",
      "2020-02-19 04:26:17,621 [LocalJobRunner Map Task Executor #0] INFO  org.apache.hadoop.mapreduce.lib.output.FileOutputCommitter - File Output Committer Algorithm version is 1\n",
      "2020-02-19 04:26:17,621 [LocalJobRunner Map Task Executor #0] INFO  org.apache.hadoop.mapreduce.lib.output.FileOutputCommitter - FileOutputCommitter skip cleanup _temporary folders under output directory:false, ignore cleanup failures: false\n",
      "2020-02-19 04:26:17,642 [LocalJobRunner Map Task Executor #0] INFO  org.apache.hadoop.mapred.Task -  Using ResourceCalculatorProcessTree : [ ]\n",
      "2020-02-19 04:26:17,647 [LocalJobRunner Map Task Executor #0] INFO  org.apache.hadoop.mapred.MapTask - Processing split: Number of splits :1\n",
      "Total Length = 632\n",
      "Input split[0]:\n",
      "   Length = 632\n",
      "   ClassName: org.apache.hadoop.mapreduce.lib.input.FileSplit\n",
      "   Locations:\n",
      "\n",
      "-----------------------\n",
      "\n",
      "2020-02-19 04:26:17,666 [LocalJobRunner Map Task Executor #0] INFO  org.apache.hadoop.mapreduce.lib.output.FileOutputCommitter - File Output Committer Algorithm version is 1\n",
      "2020-02-19 04:26:17,667 [LocalJobRunner Map Task Executor #0] INFO  org.apache.hadoop.mapreduce.lib.output.FileOutputCommitter - FileOutputCommitter skip cleanup _temporary folders under output directory:false, ignore cleanup failures: false\n",
      "2020-02-19 04:26:17,793 [LocalJobRunner Map Task Executor #0] INFO  org.apache.hadoop.mapred.LocalJobRunner - \n",
      "2020-02-19 04:26:17,803 [LocalJobRunner Map Task Executor #0] INFO  org.apache.hadoop.mapred.Task - Task:attempt_local1588421442_0001_m_000000_0 is done. And is in the process of committing\n",
      "2020-02-19 04:26:17,822 [LocalJobRunner Map Task Executor #0] INFO  org.apache.hadoop.mapred.LocalJobRunner - \n",
      "2020-02-19 04:26:17,823 [LocalJobRunner Map Task Executor #0] INFO  org.apache.hadoop.mapred.Task - Task attempt_local1588421442_0001_m_000000_0 is allowed to commit now\n",
      "2020-02-19 04:26:17,850 [LocalJobRunner Map Task Executor #0] INFO  org.apache.hadoop.mapreduce.lib.output.FileOutputCommitter - Saved output of task 'attempt_local1588421442_0001_m_000000_0' to file:/datalake/AGD Lab/evaluacion-final-Farid1994/02-pig-50/q29-10/output/_temporary/0/task_local1588421442_0001_m_000000\n",
      "2020-02-19 04:26:17,851 [LocalJobRunner Map Task Executor #0] INFO  org.apache.hadoop.mapred.LocalJobRunner - map\n",
      "2020-02-19 04:26:17,851 [LocalJobRunner Map Task Executor #0] INFO  org.apache.hadoop.mapred.Task - Task 'attempt_local1588421442_0001_m_000000_0' done.\n",
      "2020-02-19 04:26:17,855 [LocalJobRunner Map Task Executor #0] INFO  org.apache.hadoop.mapred.Task - Final Counters for attempt_local1588421442_0001_m_000000_0: Counters: 15\n",
      "\tFile System Counters\n",
      "\t\tFILE: Number of bytes read=5801916\n",
      "\t\tFILE: Number of bytes written=12074413\n",
      "\t\tFILE: Number of read operations=0\n",
      "\t\tFILE: Number of large read operations=0\n",
      "\t\tFILE: Number of write operations=0\n",
      "\tMap-Reduce Framework\n",
      "\t\tMap input records=18\n",
      "\t\tMap output records=18\n",
      "\t\tInput split bytes=402\n",
      "\t\tSpilled Records=0\n",
      "\t\tFailed Shuffles=0\n",
      "\t\tMerged Map outputs=0\n",
      "\t\tGC time elapsed (ms)=9\n",
      "\t\tTotal committed heap usage (bytes)=293601280\n",
      "\tFile Input Format Counters \n",
      "\t\tBytes Read=0\n",
      "\tFile Output Format Counters \n",
      "\t\tBytes Written=0\n",
      "2020-02-19 04:26:17,855 [LocalJobRunner Map Task Executor #0] INFO  org.apache.hadoop.mapred.LocalJobRunner - Finishing task: attempt_local1588421442_0001_m_000000_0\n",
      "2020-02-19 04:26:17,855 [Thread-14] INFO  org.apache.hadoop.mapred.LocalJobRunner - map task executor complete.\n",
      "2020-02-19 04:26:22,473 [main] INFO  org.apache.hadoop.metrics.jvm.JvmMetrics - Cannot initialize JVM Metrics with processName=JobTracker, sessionId= - already initialized\n",
      "2020-02-19 04:26:22,482 [main] INFO  org.apache.hadoop.metrics.jvm.JvmMetrics - Cannot initialize JVM Metrics with processName=JobTracker, sessionId= - already initialized\n",
      "2020-02-19 04:26:22,483 [main] INFO  org.apache.hadoop.conf.Configuration.deprecation - mapred.map.tasks is deprecated. Instead, use mapreduce.job.maps\n",
      "2020-02-19 04:26:22,483 [main] INFO  org.apache.hadoop.conf.Configuration.deprecation - mapred.reduce.tasks is deprecated. Instead, use mapreduce.job.reduces\n",
      "2020-02-19 04:26:22,484 [main] INFO  org.apache.hadoop.metrics.jvm.JvmMetrics - Cannot initialize JVM Metrics with processName=JobTracker, sessionId= - already initialized\n",
      "2020-02-19 04:26:22,508 [main] INFO  org.apache.hadoop.metrics.jvm.JvmMetrics - Cannot initialize JVM Metrics with processName=JobTracker, sessionId= - already initialized\n",
      "2020-02-19 04:26:22,509 [main] INFO  org.apache.hadoop.metrics.jvm.JvmMetrics - Cannot initialize JVM Metrics with processName=JobTracker, sessionId= - already initialized\n",
      "2020-02-19 04:26:22,509 [main] INFO  org.apache.hadoop.metrics.jvm.JvmMetrics - Cannot initialize JVM Metrics with processName=JobTracker, sessionId= - already initialized\n"
     ]
    }
   ],
   "source": [
    "!python3 grader.py"
   ]
  },
  {
   "cell_type": "code",
   "execution_count": null,
   "metadata": {},
   "outputs": [],
   "source": []
  }
 ],
 "metadata": {
  "kernelspec": {
   "display_name": "Python 3",
   "language": "python",
   "name": "python3"
  },
  "language_info": {
   "codemirror_mode": {
    "name": "ipython",
    "version": 3
   },
   "file_extension": ".py",
   "mimetype": "text/x-python",
   "name": "python",
   "nbconvert_exporter": "python",
   "pygments_lexer": "ipython3",
   "version": "3.6.9"
  }
 },
 "nbformat": 4,
 "nbformat_minor": 4
}
